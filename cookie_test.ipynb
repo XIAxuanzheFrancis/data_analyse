{
 "cells": [
  {
   "cell_type": "code",
   "execution_count": 25,
   "id": "ee50862b",
   "metadata": {},
   "outputs": [],
   "source": [
    "from selenium import webdriver"
   ]
  },
  {
   "cell_type": "code",
   "execution_count": 26,
   "id": "4113393c",
   "metadata": {},
   "outputs": [],
   "source": [
    "driver = webdriver.Edge()"
   ]
  },
  {
   "cell_type": "code",
   "execution_count": 29,
   "id": "00c75047",
   "metadata": {},
   "outputs": [],
   "source": [
    "url = \"https://wx.mail.qq.com/?cancel_login=true&from=get_ticket_fail\""
   ]
  },
  {
   "cell_type": "code",
   "execution_count": 30,
   "id": "42fe3911",
   "metadata": {},
   "outputs": [],
   "source": [
    "driver.get(url)"
   ]
  },
  {
   "cell_type": "code",
   "execution_count": 32,
   "id": "7a24719c",
   "metadata": {},
   "outputs": [],
   "source": [
    "cookies = driver.get_cookies()"
   ]
  },
  {
   "cell_type": "code",
   "execution_count": 33,
   "id": "4f224a93",
   "metadata": {},
   "outputs": [
    {
     "data": {
      "text/plain": [
       "[{'domain': '.mail.qq.com',\n",
       "  'httpOnly': True,\n",
       "  'name': 'xm_data_ticket',\n",
       "  'path': '/',\n",
       "  'sameSite': 'Lax',\n",
       "  'secure': True,\n",
       "  'value': '13102664083508577&CAESIGV3riQALozNtk8NYbUGekkltRv4dxuY0D_L8-ooaYWA'},\n",
       " {'domain': '.mail.qq.com',\n",
       "  'httpOnly': False,\n",
       "  'name': 'xm_ws',\n",
       "  'path': '/',\n",
       "  'sameSite': 'Lax',\n",
       "  'secure': False,\n",
       "  'value': '13102664083508577&17666fd0593bc354386adeab8c23d49d'},\n",
       " {'domain': '.mail.qq.com',\n",
       "  'expiry': 1704934180,\n",
       "  'httpOnly': False,\n",
       "  'name': 'qm_logintype',\n",
       "  'path': '/',\n",
       "  'sameSite': 'Lax',\n",
       "  'secure': False,\n",
       "  'value': 'qq'},\n",
       " {'domain': '.mail.qq.com',\n",
       "  'expiry': 1710118180,\n",
       "  'httpOnly': True,\n",
       "  'name': 'xm_pcache',\n",
       "  'path': '/',\n",
       "  'sameSite': 'Lax',\n",
       "  'secure': True,\n",
       "  'value': '13102664083508577&V2@nDPMrN90Qe6Xpogq8ONgqgAA@0'},\n",
       " {'domain': '.qq.com',\n",
       "  'expiry': 1736902097,\n",
       "  'httpOnly': False,\n",
       "  'name': 'RK',\n",
       "  'path': '/',\n",
       "  'sameSite': 'Lax',\n",
       "  'secure': False,\n",
       "  'value': 'AWdF4fvMt2'},\n",
       " {'domain': '.mail.qq.com',\n",
       "  'httpOnly': False,\n",
       "  'name': 'xm_muti_sid',\n",
       "  'path': '/',\n",
       "  'sameSite': 'Lax',\n",
       "  'secure': False,\n",
       "  'value': '13102664083508577&zWFGVIwNZkQuT1lCALZ0VwAA'},\n",
       " {'domain': '.mail.qq.com',\n",
       "  'expiry': 1733878180,\n",
       "  'httpOnly': True,\n",
       "  'name': 'xm_envid',\n",
       "  'path': '/',\n",
       "  'sameSite': 'Lax',\n",
       "  'secure': True,\n",
       "  'value': '456_dCxCRVOjgi8cIPojTBsRBuIMXjZAEXZ5t7vGpZ7G8jfps/HdZrK5hNUCa3R45+tOBVNsvn5PVZpdQm2/RkREl9bfIu8nF9D6tDdYSu+7hqGL7ANx9TcIGaWD7Soitg4QQ/MUQ0UdN9DO8xJgl0RX6QSbonV2DP0CTg=='},\n",
       " {'domain': '.qq.com',\n",
       "  'expiry': 1704934172,\n",
       "  'httpOnly': False,\n",
       "  'name': 'ptui_loginuin',\n",
       "  'path': '/',\n",
       "  'sameSite': 'Lax',\n",
       "  'secure': False,\n",
       "  'value': '3058634081'},\n",
       " {'domain': '.mail.qq.com',\n",
       "  'httpOnly': False,\n",
       "  'name': 'xm_uin',\n",
       "  'path': '/',\n",
       "  'sameSite': 'Lax',\n",
       "  'secure': False,\n",
       "  'value': '13102664083508577'},\n",
       " {'domain': '.mail.qq.com',\n",
       "  'httpOnly': False,\n",
       "  'name': 'xm_sid',\n",
       "  'path': '/',\n",
       "  'sameSite': 'Lax',\n",
       "  'secure': False,\n",
       "  'value': 'zWFGVIwNZkQuT1lCALZ0VwAA'},\n",
       " {'domain': '.mail.qq.com',\n",
       "  'expiry': 1704934180,\n",
       "  'httpOnly': False,\n",
       "  'name': 'qm_device_id',\n",
       "  'path': '/',\n",
       "  'sameSite': 'Lax',\n",
       "  'secure': False,\n",
       "  'value': '0EBSpkaQnxoBouDXfrJMldodR+ImZiiqI+Qh4c1uqKwCDCnSsCRF1SOmmqm2yjbR'},\n",
       " {'domain': '.mail.qq.com',\n",
       "  'httpOnly': False,\n",
       "  'name': 'sid',\n",
       "  'path': '/',\n",
       "  'sameSite': 'Lax',\n",
       "  'secure': False,\n",
       "  'value': '-1236333215&'},\n",
       " {'domain': '.mail.qq.com',\n",
       "  'httpOnly': False,\n",
       "  'name': 'xm_device_id',\n",
       "  'path': '/',\n",
       "  'sameSite': 'Lax',\n",
       "  'secure': False,\n",
       "  'value': 'aba15175'},\n",
       " {'domain': '.mail.qq.com',\n",
       "  'httpOnly': True,\n",
       "  'name': 'xm_skey',\n",
       "  'path': '/',\n",
       "  'sameSite': 'Lax',\n",
       "  'secure': False,\n",
       "  'value': '13102664083508577&0fcfb4b0dbbbe08eddd49367c87ca90c'},\n",
       " {'domain': '.qq.com',\n",
       "  'expiry': 1736902173,\n",
       "  'httpOnly': False,\n",
       "  'name': 'ptcz',\n",
       "  'path': '/',\n",
       "  'sameSite': 'Lax',\n",
       "  'secure': False,\n",
       "  'value': '00c957ae1c241e65d29c517ab5dbd86cfa892da1090d46d2983235fc91001df3'},\n",
       " {'domain': '.qq.com',\n",
       "  'httpOnly': False,\n",
       "  'name': '_qpsvr_localtk',\n",
       "  'path': '/',\n",
       "  'sameSite': 'Lax',\n",
       "  'secure': False,\n",
       "  'value': '0.6182286796956711'}]"
      ]
     },
     "execution_count": 33,
     "metadata": {},
     "output_type": "execute_result"
    }
   ],
   "source": [
    "cookies"
   ]
  },
  {
   "cell_type": "code",
   "execution_count": 34,
   "id": "ac366458",
   "metadata": {},
   "outputs": [],
   "source": [
    "import json"
   ]
  },
  {
   "cell_type": "code",
   "execution_count": 35,
   "id": "dfb7edd0",
   "metadata": {},
   "outputs": [],
   "source": [
    "cookies_str = json.dumps(cookies)"
   ]
  },
  {
   "cell_type": "code",
   "execution_count": 36,
   "id": "b8d371cb",
   "metadata": {},
   "outputs": [],
   "source": [
    "with open(\"cookies.txt\",\"w\",encoding=\"utf-8\") as file:\n",
    "    file.write(cookies_str)"
   ]
  },
  {
   "cell_type": "code",
   "execution_count": null,
   "id": "58195e3b",
   "metadata": {},
   "outputs": [],
   "source": []
  },
  {
   "cell_type": "code",
   "execution_count": null,
   "id": "700947b3",
   "metadata": {},
   "outputs": [],
   "source": []
  }
 ],
 "metadata": {
  "kernelspec": {
   "display_name": "Python 3",
   "language": "python",
   "name": "python3"
  },
  "language_info": {
   "codemirror_mode": {
    "name": "ipython",
    "version": 3
   },
   "file_extension": ".py",
   "mimetype": "text/x-python",
   "name": "python",
   "nbconvert_exporter": "python",
   "pygments_lexer": "ipython3",
   "version": "3.11.5"
  }
 },
 "nbformat": 4,
 "nbformat_minor": 5
}
