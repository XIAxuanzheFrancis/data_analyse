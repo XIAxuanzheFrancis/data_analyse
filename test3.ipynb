{
 "cells": [
  {
   "cell_type": "code",
   "execution_count": 1,
   "id": "c0b356f3",
   "metadata": {},
   "outputs": [],
   "source": [
    "from selenium import webdriver"
   ]
  },
  {
   "cell_type": "code",
   "execution_count": 3,
   "id": "e10c405a",
   "metadata": {},
   "outputs": [],
   "source": [
    "driver = webdriver.Edge()"
   ]
  },
  {
   "cell_type": "code",
   "execution_count": 4,
   "id": "53cfd72c",
   "metadata": {},
   "outputs": [],
   "source": [
    "driver.get(\"https://baidu.com\")"
   ]
  },
  {
   "cell_type": "code",
   "execution_count": 6,
   "id": "d4a36107",
   "metadata": {},
   "outputs": [],
   "source": [
    "element=driver.find_element(\"id\",\"kw\");"
   ]
  },
  {
   "cell_type": "code",
   "execution_count": 10,
   "id": "6b66f46b",
   "metadata": {},
   "outputs": [],
   "source": [
    "element.send_keys(\"我爱你\")"
   ]
  },
  {
   "cell_type": "code",
   "execution_count": null,
   "id": "f0a15b8c",
   "metadata": {},
   "outputs": [],
   "source": []
  }
 ],
 "metadata": {
  "kernelspec": {
   "display_name": "Python 3",
   "language": "python",
   "name": "python3"
  },
  "language_info": {
   "codemirror_mode": {
    "name": "ipython",
    "version": 3
   },
   "file_extension": ".py",
   "mimetype": "text/x-python",
   "name": "python",
   "nbconvert_exporter": "python",
   "pygments_lexer": "ipython3",
   "version": "3.11.5"
  }
 },
 "nbformat": 4,
 "nbformat_minor": 5
}
