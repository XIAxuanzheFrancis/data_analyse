{
 "cells": [
  {
   "cell_type": "code",
   "execution_count": 1,
   "id": "4f50040e",
   "metadata": {},
   "outputs": [],
   "source": [
    "from selenium import webdriver"
   ]
  },
  {
   "cell_type": "code",
   "execution_count": 3,
   "id": "5138c063",
   "metadata": {},
   "outputs": [],
   "source": [
    "driver = webdriver.Edge()"
   ]
  },
  {
   "cell_type": "code",
   "execution_count": 4,
   "id": "575c5575",
   "metadata": {},
   "outputs": [],
   "source": [
    "driver.get(\"https://baidu.com\")"
   ]
  },
  {
   "cell_type": "code",
   "execution_count": 6,
   "id": "8a1993db",
   "metadata": {},
   "outputs": [],
   "source": [
    "element=driver.find_element(\"id\",\"kw\");"
   ]
  },
  {
   "cell_type": "code",
   "execution_count": 7,
   "id": "1cbd913b",
   "metadata": {},
   "outputs": [
    {
     "ename": "AttributeError",
     "evalue": "'WebElement' object has no attribute 'sendkeys'",
     "output_type": "error",
     "traceback": [
      "\u001b[1;31m---------------------------------------------------------------------------\u001b[0m",
      "\u001b[1;31mAttributeError\u001b[0m                            Traceback (most recent call last)",
      "Cell \u001b[1;32mIn[7], line 1\u001b[0m\n\u001b[1;32m----> 1\u001b[0m element\u001b[38;5;241m.\u001b[39msendkeys(\u001b[38;5;124m\"\u001b[39m\u001b[38;5;124m我爱你\u001b[39m\u001b[38;5;124m\"\u001b[39m)\n",
      "\u001b[1;31mAttributeError\u001b[0m: 'WebElement' object has no attribute 'sendkeys'"
     ]
    }
   ],
   "source": [
    "element.send_keys(\"我爱你\")"
   ]
  },
  {
   "cell_type": "code",
   "execution_count": null,
   "id": "996fd784",
   "metadata": {},
   "outputs": [],
   "source": []
  }
 ],
 "metadata": {
  "kernelspec": {
   "display_name": "Python 3",
   "language": "python",
   "name": "python3"
  },
  "language_info": {
   "codemirror_mode": {
    "name": "ipython",
    "version": 3
   },
   "file_extension": ".py",
   "mimetype": "text/x-python",
   "name": "python",
   "nbconvert_exporter": "python",
   "pygments_lexer": "ipython3",
   "version": "3.11.5"
  }
 },
 "nbformat": 4,
 "nbformat_minor": 5
}
